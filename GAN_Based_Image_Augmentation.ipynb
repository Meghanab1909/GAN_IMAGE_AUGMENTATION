{
  "cells": [
    {
      "cell_type": "code",
      "execution_count": 6,
      "metadata": {
        "colab": {
          "base_uri": "https://localhost:8080/"
        },
        "id": "qg5T8RO3AUES",
        "outputId": "986ab2ac-4926-4290-a049-13a25206ca66"
      },
      "outputs": [
        {
          "name": "stdout",
          "output_type": "stream",
          "text": [
            "CUDA: False\n"
          ]
        }
      ],
      "source": [
        "import torch\n",
        "print(\"CUDA:\", torch.cuda.is_available())\n",
        "if torch.cuda.is_available(): print(\"GPU:\", torch.cuda.get_device_name(0))\n"
      ]
    },
    {
      "cell_type": "code",
      "execution_count": 7,
      "metadata": {
        "id": "IfQD62_1ZLuN"
      },
      "outputs": [],
      "source": [
        "from torch.utils.data import WeightedRandomSampler\n",
        "from torchvision import transforms as T, models, datasets\n",
        "from sklearn.metrics import precision_recall_fscore_support, classification_report, confusion_matrix\n",
        "import seaborn as sns\n",
        "import matplotlib.pyplot as plt\n",
        "import numpy as np\n",
        "import torch.nn as nn\n",
        "import torch.optim as optim"
      ]
    },
    {
      "cell_type": "code",
      "execution_count": 8,
      "metadata": {
        "colab": {
          "base_uri": "https://localhost:8080/"
        },
        "id": "y9-TDCq0A2CM",
        "outputId": "8cc75c72-3463-4667-c9f8-da93262bae20"
      },
      "outputs": [
        {
          "name": "stdout",
          "output_type": "stream",
          "text": [
            "Using device: cpu\n"
          ]
        }
      ],
      "source": [
        "'''\n",
        "from google.colab import drive\n",
        "drive.mount('/content/drive')\n",
        "'''\n",
        "\n",
        "import torch\n",
        "import torch.nn as nn\n",
        "import torch.optim as optim\n",
        "from torch.utils.data import DataLoader\n",
        "import torchvision.transforms as transforms\n",
        "import torchvision.datasets as datasets\n",
        "import matplotlib.pyplot as plt\n",
        "\n",
        "device = torch.device('cuda' if torch.cuda.is_available() else 'cpu')\n",
        "print(\"Using device:\", device)\n"
      ]
    },
    {
      "cell_type": "code",
      "execution_count": 31,
      "metadata": {
        "id": "VOduaJgQCdPy"
      },
      "outputs": [
        {
          "name": "stderr",
          "output_type": "stream",
          "text": [
            "A subdirectory or file FlowerGAN_Project already exists.\n"
          ]
        }
      ],
      "source": [
        "mkdir FlowerGAN_Project\n"
      ]
    },
    {
      "cell_type": "code",
      "execution_count": 10,
      "metadata": {
        "colab": {
          "base_uri": "https://localhost:8080/"
        },
        "id": "MT6Z3f4UCma0",
        "outputId": "4d065ec8-ab64-45c7-bf95-3350567b6b68"
      },
      "outputs": [
        {
          "name": "stdout",
          "output_type": "stream",
          "text": [
            "⬇️ Downloading dataset...\n",
            "✅ Download complete!\n",
            "📂 Extracting dataset...\n"
          ]
        },
        {
          "name": "stderr",
          "output_type": "stream",
          "text": [
            "C:\\Users\\HP\\AppData\\Local\\Temp\\ipykernel_12716\\2353337104.py:20: DeprecationWarning: Python 3.14 will, by default, filter extracted tar archives and reject files or modify their metadata. Use the filter argument to control this behavior.\n",
            "  tar.extractall(path=extract_path)\n"
          ]
        },
        {
          "name": "stdout",
          "output_type": "stream",
          "text": [
            "✅ Flowers dataset downloaded and ready!\n"
          ]
        }
      ],
      "source": [
        "import urllib.request\n",
        "import tarfile\n",
        "import os\n",
        "\n",
        "# URL of the dataset\n",
        "url = \"https://storage.googleapis.com/download.tensorflow.org/example_images/flower_photos.tgz\"\n",
        "\n",
        "# Local path to save the dataset\n",
        "download_path = \"./flowers.tgz\"  # This will save in the current working directory\n",
        "extract_path = \"./FlowerGAN_Project\"  # Folder where we want to extract\n",
        "\n",
        "print(\"⬇️ Downloading dataset...\")\n",
        "urllib.request.urlretrieve(url, download_path)\n",
        "print(\"✅ Download complete!\")\n",
        "\n",
        "print(\"📂 Extracting dataset...\")\n",
        "os.makedirs(extract_path, exist_ok=True)\n",
        "\n",
        "with tarfile.open(download_path) as tar:\n",
        "    tar.extractall(path=extract_path)\n",
        "\n",
        "# Optional: rename folder\n",
        "os.rename(os.path.join(extract_path, \"flower_photos\"), \n",
        "          os.path.join(extract_path, \"flowers\"))\n",
        "\n",
        "print(\"✅ Flowers dataset downloaded and ready!\")\n"
      ]
    },
    {
      "cell_type": "code",
      "execution_count": 11,
      "metadata": {
        "colab": {
          "base_uri": "https://localhost:8080/"
        },
        "id": "GCCecKr2C5EI",
        "outputId": "ff1898ad-08f8-451c-bf8d-bd1c6f75bd0f"
      },
      "outputs": [
        {
          "name": "stdout",
          "output_type": "stream",
          "text": [
            "['daisy', 'dandelion', 'LICENSE.txt', 'roses', 'sunflowers', 'tulips']\n"
          ]
        }
      ],
      "source": [
        "import os\n",
        "print(os.listdir('./FlowerGAN_Project/flowers'))\n"
      ]
    },
    {
      "cell_type": "code",
      "execution_count": 12,
      "metadata": {
        "colab": {
          "base_uri": "https://localhost:8080/"
        },
        "id": "S8uKaogcDA8n",
        "outputId": "25be85b5-ae6a-4b77-b7d8-fb25918c1cd3"
      },
      "outputs": [
        {
          "name": "stdout",
          "output_type": "stream",
          "text": [
            "Classes: ['daisy', 'dandelion', 'roses', 'sunflowers', 'tulips'] Total images: 3670\n",
            "Train class counts: Counter({1: 723, 4: 627, 3: 551, 2: 525, 0: 510})\n"
          ]
        }
      ],
      "source": [
        "data_dir = './FlowerGAN_Project/flowers'\n",
        "\n",
        "# Strong augmentation for training\n",
        "train_transform = T.Compose([\n",
        "    T.RandomResizedCrop(224),\n",
        "    T.RandomHorizontalFlip(),\n",
        "    T.RandomApply([T.ColorJitter(0.4,0.4,0.4,0.1)], p=0.8),\n",
        "    T.RandomGrayscale(p=0.02),\n",
        "    T.RandomRotation(10),\n",
        "    T.ToTensor(),\n",
        "    T.Normalize(mean=[0.485,0.456,0.406], std=[0.229,0.224,0.225]),\n",
        "])\n",
        "\n",
        "# Validation (no heavy augmentations)\n",
        "val_transform = T.Compose([\n",
        "    T.Resize(256),\n",
        "    T.CenterCrop(224),\n",
        "    T.ToTensor(),\n",
        "    T.Normalize(mean=[0.485,0.456,0.406], std=[0.229,0.224,0.225]),\n",
        "])\n",
        "\n",
        "# Dataset\n",
        "full_ds = datasets.ImageFolder(data_dir, transform=train_transform)\n",
        "class_names = full_ds.classes\n",
        "num_samples = len(full_ds)\n",
        "print(\"Classes:\", class_names, \"Total images:\", num_samples)\n",
        "\n",
        "# Split train/val\n",
        "val_pct = 0.2\n",
        "n_val = int(val_pct * num_samples)\n",
        "n_train = num_samples - n_val\n",
        "train_ds, val_ds = torch.utils.data.random_split(full_ds, [n_train, n_val],\n",
        "                                                 generator=torch.Generator().manual_seed(42))\n",
        "# Make validation dataset use val_transform\n",
        "val_ds.dataset = datasets.ImageFolder(data_dir, transform=val_transform)\n",
        "\n",
        "# Compute class weights for sampler\n",
        "from collections import Counter\n",
        "train_targets = [full_ds.targets[i] for i in train_ds.indices]\n",
        "class_counts = Counter(train_targets)\n",
        "print(\"Train class counts:\", class_counts)\n",
        "weights_per_class = {cls: 1.0/count for cls, count in class_counts.items()}\n",
        "sample_weights = [weights_per_class[t] for t in train_targets]\n",
        "sampler = WeightedRandomSampler(sample_weights, num_samples=len(sample_weights), replacement=True)\n",
        "\n",
        "# Dataloaders\n",
        "train_loader = torch.utils.data.DataLoader(train_ds, batch_size=32, sampler=sampler, num_workers=2, pin_memory=True)\n",
        "val_loader   = torch.utils.data.DataLoader(val_ds, batch_size=32, shuffle=False, num_workers=2, pin_memory=True)"
      ]
    },
    {
      "cell_type": "code",
      "execution_count": 13,
      "metadata": {
        "colab": {
          "base_uri": "https://localhost:8080/"
        },
        "id": "q4Yfz91yEeIM",
        "outputId": "7acd1641-888e-4b30-fcf0-ee89437cfcba"
      },
      "outputs": [
        {
          "name": "stdout",
          "output_type": "stream",
          "text": [
            "Downloading: \"https://download.pytorch.org/models/efficientnet_b0_rwightman-7f5810bc.pth\" to C:\\Users\\HP/.cache\\torch\\hub\\checkpoints\\efficientnet_b0_rwightman-7f5810bc.pth\n"
          ]
        },
        {
          "name": "stderr",
          "output_type": "stream",
          "text": [
            "c:\\Users\\HP\\AppData\\Local\\Programs\\Python\\Python313\\Lib\\site-packages\\torchvision\\models\\_utils.py:208: UserWarning: The parameter 'pretrained' is deprecated since 0.13 and may be removed in the future, please use 'weights' instead.\n",
            "  warnings.warn(\n",
            "c:\\Users\\HP\\AppData\\Local\\Programs\\Python\\Python313\\Lib\\site-packages\\torchvision\\models\\_utils.py:223: UserWarning: Arguments other than a weight enum or `None` for 'weights' are deprecated since 0.13 and may be removed in the future. The current behavior is equivalent to passing `weights=EfficientNet_B0_Weights.IMAGENET1K_V1`. You can also use `weights=EfficientNet_B0_Weights.DEFAULT` to get the most up-to-date weights.\n",
            "  warnings.warn(msg)\n",
            "100%|██████████| 20.5M/20.5M [00:00<00:00, 40.1MB/s]\n"
          ]
        }
      ],
      "source": [
        "device = torch.device('cuda' if torch.cuda.is_available() else 'cpu')\n",
        "n_classes = len(class_names)\n",
        "\n",
        "# Load pretrained EfficientNet\n",
        "from torchvision import models\n",
        "model = models.efficientnet_b0(pretrained=True)\n",
        "\n",
        "# Replace classifier head\n",
        "in_feats = model.classifier[1].in_features\n",
        "model.classifier = nn.Sequential(\n",
        "    nn.Dropout(p=0.4, inplace=True),\n",
        "    nn.Linear(in_feats, n_classes)\n",
        ")\n",
        "model = model.to(device)\n",
        "\n",
        "# Optionally freeze first few blocks (speeds training)\n",
        "for name, param in model.named_parameters():\n",
        "    if 'features.0' in name or 'features.1' in name:\n",
        "        param.requires_grad = False\n",
        "\n",
        "# Loss + optimizer + scheduler\n",
        "# Compute per-class weights (inverse frequency)\n",
        "from collections import Counter\n",
        "counts = Counter(train_targets)\n",
        "class_weights = torch.tensor([1.0 / counts[i] for i in range(n_classes)], dtype=torch.float).to(device)\n",
        "\n",
        "criterion = nn.CrossEntropyLoss(weight=class_weights)\n",
        "optimizer = optim.AdamW(filter(lambda p: p.requires_grad, model.parameters()), lr=2e-4, weight_decay=1e-5)\n",
        "scheduler = optim.lr_scheduler.CosineAnnealingLR(optimizer, T_max=10)"
      ]
    },
    {
      "cell_type": "code",
      "execution_count": 14,
      "metadata": {
        "colab": {
          "base_uri": "https://localhost:8080/"
        },
        "id": "1FDEvl1gZ0X0",
        "outputId": "8b77d737-3668-4546-96a0-ae99e0c94256"
      },
      "outputs": [
        {
          "name": "stderr",
          "output_type": "stream",
          "text": [
            "c:\\Users\\HP\\AppData\\Local\\Programs\\Python\\Python313\\Lib\\site-packages\\torch\\utils\\data\\dataloader.py:666: UserWarning: 'pin_memory' argument is set as true but no accelerator is found, then device pinned memory won't be used.\n",
            "  warnings.warn(warn_msg)\n",
            "c:\\Users\\HP\\AppData\\Local\\Programs\\Python\\Python313\\Lib\\site-packages\\torch\\utils\\data\\dataloader.py:666: UserWarning: 'pin_memory' argument is set as true but no accelerator is found, then device pinned memory won't be used.\n",
            "  warnings.warn(warn_msg)\n"
          ]
        },
        {
          "name": "stdout",
          "output_type": "stream",
          "text": [
            "Epoch 1/12: train_loss=0.7600 val_loss=0.2944 val_f1=0.8757\n",
            " -> saved best model\n"
          ]
        },
        {
          "name": "stderr",
          "output_type": "stream",
          "text": [
            "c:\\Users\\HP\\AppData\\Local\\Programs\\Python\\Python313\\Lib\\site-packages\\torch\\utils\\data\\dataloader.py:666: UserWarning: 'pin_memory' argument is set as true but no accelerator is found, then device pinned memory won't be used.\n",
            "  warnings.warn(warn_msg)\n",
            "c:\\Users\\HP\\AppData\\Local\\Programs\\Python\\Python313\\Lib\\site-packages\\torch\\utils\\data\\dataloader.py:666: UserWarning: 'pin_memory' argument is set as true but no accelerator is found, then device pinned memory won't be used.\n",
            "  warnings.warn(warn_msg)\n"
          ]
        },
        {
          "name": "stdout",
          "output_type": "stream",
          "text": [
            "Epoch 2/12: train_loss=0.3729 val_loss=0.1781 val_f1=0.9372\n",
            " -> saved best model\n"
          ]
        },
        {
          "name": "stderr",
          "output_type": "stream",
          "text": [
            "c:\\Users\\HP\\AppData\\Local\\Programs\\Python\\Python313\\Lib\\site-packages\\torch\\utils\\data\\dataloader.py:666: UserWarning: 'pin_memory' argument is set as true but no accelerator is found, then device pinned memory won't be used.\n",
            "  warnings.warn(warn_msg)\n",
            "c:\\Users\\HP\\AppData\\Local\\Programs\\Python\\Python313\\Lib\\site-packages\\torch\\utils\\data\\dataloader.py:666: UserWarning: 'pin_memory' argument is set as true but no accelerator is found, then device pinned memory won't be used.\n",
            "  warnings.warn(warn_msg)\n"
          ]
        },
        {
          "name": "stdout",
          "output_type": "stream",
          "text": [
            "Epoch 3/12: train_loss=0.3015 val_loss=0.1694 val_f1=0.9359\n"
          ]
        },
        {
          "name": "stderr",
          "output_type": "stream",
          "text": [
            "c:\\Users\\HP\\AppData\\Local\\Programs\\Python\\Python313\\Lib\\site-packages\\torch\\utils\\data\\dataloader.py:666: UserWarning: 'pin_memory' argument is set as true but no accelerator is found, then device pinned memory won't be used.\n",
            "  warnings.warn(warn_msg)\n",
            "c:\\Users\\HP\\AppData\\Local\\Programs\\Python\\Python313\\Lib\\site-packages\\torch\\utils\\data\\dataloader.py:666: UserWarning: 'pin_memory' argument is set as true but no accelerator is found, then device pinned memory won't be used.\n",
            "  warnings.warn(warn_msg)\n"
          ]
        },
        {
          "name": "stdout",
          "output_type": "stream",
          "text": [
            "Epoch 4/12: train_loss=0.2441 val_loss=0.1404 val_f1=0.9496\n",
            " -> saved best model\n"
          ]
        },
        {
          "name": "stderr",
          "output_type": "stream",
          "text": [
            "c:\\Users\\HP\\AppData\\Local\\Programs\\Python\\Python313\\Lib\\site-packages\\torch\\utils\\data\\dataloader.py:666: UserWarning: 'pin_memory' argument is set as true but no accelerator is found, then device pinned memory won't be used.\n",
            "  warnings.warn(warn_msg)\n",
            "c:\\Users\\HP\\AppData\\Local\\Programs\\Python\\Python313\\Lib\\site-packages\\torch\\utils\\data\\dataloader.py:666: UserWarning: 'pin_memory' argument is set as true but no accelerator is found, then device pinned memory won't be used.\n",
            "  warnings.warn(warn_msg)\n"
          ]
        },
        {
          "name": "stdout",
          "output_type": "stream",
          "text": [
            "Epoch 5/12: train_loss=0.2340 val_loss=0.1368 val_f1=0.9608\n",
            " -> saved best model\n"
          ]
        },
        {
          "name": "stderr",
          "output_type": "stream",
          "text": [
            "c:\\Users\\HP\\AppData\\Local\\Programs\\Python\\Python313\\Lib\\site-packages\\torch\\utils\\data\\dataloader.py:666: UserWarning: 'pin_memory' argument is set as true but no accelerator is found, then device pinned memory won't be used.\n",
            "  warnings.warn(warn_msg)\n",
            "c:\\Users\\HP\\AppData\\Local\\Programs\\Python\\Python313\\Lib\\site-packages\\torch\\utils\\data\\dataloader.py:666: UserWarning: 'pin_memory' argument is set as true but no accelerator is found, then device pinned memory won't be used.\n",
            "  warnings.warn(warn_msg)\n"
          ]
        },
        {
          "name": "stdout",
          "output_type": "stream",
          "text": [
            "Epoch 6/12: train_loss=0.2116 val_loss=0.1308 val_f1=0.9597\n"
          ]
        },
        {
          "name": "stderr",
          "output_type": "stream",
          "text": [
            "c:\\Users\\HP\\AppData\\Local\\Programs\\Python\\Python313\\Lib\\site-packages\\torch\\utils\\data\\dataloader.py:666: UserWarning: 'pin_memory' argument is set as true but no accelerator is found, then device pinned memory won't be used.\n",
            "  warnings.warn(warn_msg)\n",
            "c:\\Users\\HP\\AppData\\Local\\Programs\\Python\\Python313\\Lib\\site-packages\\torch\\utils\\data\\dataloader.py:666: UserWarning: 'pin_memory' argument is set as true but no accelerator is found, then device pinned memory won't be used.\n",
            "  warnings.warn(warn_msg)\n"
          ]
        },
        {
          "name": "stdout",
          "output_type": "stream",
          "text": [
            "Epoch 7/12: train_loss=0.1935 val_loss=0.1268 val_f1=0.9572\n"
          ]
        },
        {
          "name": "stderr",
          "output_type": "stream",
          "text": [
            "c:\\Users\\HP\\AppData\\Local\\Programs\\Python\\Python313\\Lib\\site-packages\\torch\\utils\\data\\dataloader.py:666: UserWarning: 'pin_memory' argument is set as true but no accelerator is found, then device pinned memory won't be used.\n",
            "  warnings.warn(warn_msg)\n",
            "c:\\Users\\HP\\AppData\\Local\\Programs\\Python\\Python313\\Lib\\site-packages\\torch\\utils\\data\\dataloader.py:666: UserWarning: 'pin_memory' argument is set as true but no accelerator is found, then device pinned memory won't be used.\n",
            "  warnings.warn(warn_msg)\n"
          ]
        },
        {
          "name": "stdout",
          "output_type": "stream",
          "text": [
            "Epoch 8/12: train_loss=0.1752 val_loss=0.1273 val_f1=0.9517\n"
          ]
        },
        {
          "name": "stderr",
          "output_type": "stream",
          "text": [
            "c:\\Users\\HP\\AppData\\Local\\Programs\\Python\\Python313\\Lib\\site-packages\\torch\\utils\\data\\dataloader.py:666: UserWarning: 'pin_memory' argument is set as true but no accelerator is found, then device pinned memory won't be used.\n",
            "  warnings.warn(warn_msg)\n",
            "c:\\Users\\HP\\AppData\\Local\\Programs\\Python\\Python313\\Lib\\site-packages\\torch\\utils\\data\\dataloader.py:666: UserWarning: 'pin_memory' argument is set as true but no accelerator is found, then device pinned memory won't be used.\n",
            "  warnings.warn(warn_msg)\n"
          ]
        },
        {
          "name": "stdout",
          "output_type": "stream",
          "text": [
            "Epoch 9/12: train_loss=0.1715 val_loss=0.1251 val_f1=0.9513\n"
          ]
        },
        {
          "name": "stderr",
          "output_type": "stream",
          "text": [
            "c:\\Users\\HP\\AppData\\Local\\Programs\\Python\\Python313\\Lib\\site-packages\\torch\\utils\\data\\dataloader.py:666: UserWarning: 'pin_memory' argument is set as true but no accelerator is found, then device pinned memory won't be used.\n",
            "  warnings.warn(warn_msg)\n",
            "c:\\Users\\HP\\AppData\\Local\\Programs\\Python\\Python313\\Lib\\site-packages\\torch\\utils\\data\\dataloader.py:666: UserWarning: 'pin_memory' argument is set as true but no accelerator is found, then device pinned memory won't be used.\n",
            "  warnings.warn(warn_msg)\n"
          ]
        },
        {
          "name": "stdout",
          "output_type": "stream",
          "text": [
            "Epoch 10/12: train_loss=0.1531 val_loss=0.1250 val_f1=0.9526\n"
          ]
        },
        {
          "name": "stderr",
          "output_type": "stream",
          "text": [
            "c:\\Users\\HP\\AppData\\Local\\Programs\\Python\\Python313\\Lib\\site-packages\\torch\\utils\\data\\dataloader.py:666: UserWarning: 'pin_memory' argument is set as true but no accelerator is found, then device pinned memory won't be used.\n",
            "  warnings.warn(warn_msg)\n",
            "c:\\Users\\HP\\AppData\\Local\\Programs\\Python\\Python313\\Lib\\site-packages\\torch\\utils\\data\\dataloader.py:666: UserWarning: 'pin_memory' argument is set as true but no accelerator is found, then device pinned memory won't be used.\n",
            "  warnings.warn(warn_msg)\n"
          ]
        },
        {
          "name": "stdout",
          "output_type": "stream",
          "text": [
            "Epoch 11/12: train_loss=0.1660 val_loss=0.1242 val_f1=0.9555\n"
          ]
        },
        {
          "name": "stderr",
          "output_type": "stream",
          "text": [
            "c:\\Users\\HP\\AppData\\Local\\Programs\\Python\\Python313\\Lib\\site-packages\\torch\\utils\\data\\dataloader.py:666: UserWarning: 'pin_memory' argument is set as true but no accelerator is found, then device pinned memory won't be used.\n",
            "  warnings.warn(warn_msg)\n",
            "c:\\Users\\HP\\AppData\\Local\\Programs\\Python\\Python313\\Lib\\site-packages\\torch\\utils\\data\\dataloader.py:666: UserWarning: 'pin_memory' argument is set as true but no accelerator is found, then device pinned memory won't be used.\n",
            "  warnings.warn(warn_msg)\n"
          ]
        },
        {
          "name": "stdout",
          "output_type": "stream",
          "text": [
            "Epoch 12/12: train_loss=0.1723 val_loss=0.1288 val_f1=0.9567\n"
          ]
        }
      ],
      "source": [
        "from sklearn.metrics import precision_recall_fscore_support\n",
        "\n",
        "def train_one_epoch(model, loader, optimizer, criterion, device):\n",
        "    model.train()\n",
        "    running_loss = 0.0\n",
        "    all_preds, all_labels = [], []\n",
        "    for imgs, labels in loader:\n",
        "        imgs, labels = imgs.to(device), labels.to(device)\n",
        "        optimizer.zero_grad()\n",
        "        outputs = model(imgs)\n",
        "        loss = criterion(outputs, labels)\n",
        "        loss.backward()\n",
        "        optimizer.step()\n",
        "        running_loss += loss.item() * imgs.size(0)\n",
        "        preds = outputs.argmax(dim=1)\n",
        "        all_preds.extend(preds.cpu().numpy())\n",
        "        all_labels.extend(labels.cpu().numpy())\n",
        "    avg_loss = running_loss / len(loader.dataset)\n",
        "    p, r, f1, _ = precision_recall_fscore_support(all_labels, all_preds, average='macro', zero_division=0)\n",
        "    return avg_loss, p, r, f1\n",
        "\n",
        "def evaluate(model, loader, criterion, device):\n",
        "    model.eval()\n",
        "    running_loss = 0.0\n",
        "    all_preds, all_labels = [], []\n",
        "    with torch.no_grad():\n",
        "        for imgs, labels in loader:\n",
        "            imgs, labels = imgs.to(device), labels.to(device)\n",
        "            outputs = model(imgs)\n",
        "            loss = criterion(outputs, labels)\n",
        "            running_loss += loss.item() * imgs.size(0)\n",
        "            preds = outputs.argmax(dim=1)\n",
        "            all_preds.extend(preds.cpu().numpy())\n",
        "            all_labels.extend(labels.cpu().numpy())\n",
        "    avg_loss = running_loss / len(loader.dataset)\n",
        "    p, r, f1, _ = precision_recall_fscore_support(all_labels, all_preds, average='macro', zero_division=0)\n",
        "    return avg_loss, p, r, f1, all_labels, all_preds\n",
        "\n",
        "# ===== Train =====\n",
        "best_f1 = 0.0\n",
        "epochs = 12\n",
        "for epoch in range(epochs):\n",
        "    train_loss, train_p, train_r, train_f1 = train_one_epoch(model, train_loader, optimizer, criterion, device)\n",
        "    val_loss, val_p, val_r, val_f1, y_true, y_pred = evaluate(model, val_loader, criterion, device)\n",
        "    scheduler.step()\n",
        "    print(f\"Epoch {epoch+1}/{epochs}: train_loss={train_loss:.4f} val_loss={val_loss:.4f} val_f1={val_f1:.4f}\")\n",
        "    if val_f1 > best_f1:\n",
        "        best_f1 = val_f1\n",
        "        torch.save(model.state_dict(), './FlowerGAN_Project/effnet_b0_best.pth')\n",
        "        print(\" -> saved best model\")"
      ]
    },
    {
      "cell_type": "code",
      "execution_count": 15,
      "metadata": {
        "id": "efiQ4HxHEhTs"
      },
      "outputs": [
        {
          "name": "stderr",
          "output_type": "stream",
          "text": [
            "c:\\Users\\HP\\AppData\\Local\\Programs\\Python\\Python313\\Lib\\site-packages\\torch\\utils\\data\\dataloader.py:666: UserWarning: 'pin_memory' argument is set as true but no accelerator is found, then device pinned memory won't be used.\n",
            "  warnings.warn(warn_msg)\n"
          ]
        },
        {
          "name": "stdout",
          "output_type": "stream",
          "text": [
            "Epoch [1/15] - Loss: 0.4308 - Accuracy: 85.63%\n",
            "Epoch [2/15] - Loss: 0.3569 - Accuracy: 87.67%\n",
            "Epoch [3/15] - Loss: 0.3272 - Accuracy: 88.73%\n",
            "Epoch [4/15] - Loss: 0.3301 - Accuracy: 88.22%\n",
            "Epoch [5/15] - Loss: 0.3864 - Accuracy: 86.27%\n",
            "Epoch [6/15] - Loss: 0.2980 - Accuracy: 89.68%\n",
            "Epoch [7/15] - Loss: 0.2759 - Accuracy: 90.77%\n",
            "Epoch [8/15] - Loss: 0.2884 - Accuracy: 89.88%\n",
            "Epoch [9/15] - Loss: 0.2772 - Accuracy: 90.74%\n",
            "Epoch [10/15] - Loss: 0.2719 - Accuracy: 90.43%\n",
            "Epoch [11/15] - Loss: 0.2602 - Accuracy: 90.26%\n",
            "Epoch [12/15] - Loss: 0.2797 - Accuracy: 89.82%\n",
            "Epoch [13/15] - Loss: 0.2500 - Accuracy: 91.62%\n",
            "Epoch [14/15] - Loss: 0.2257 - Accuracy: 91.96%\n",
            "Epoch [15/15] - Loss: 0.2386 - Accuracy: 91.72%\n",
            "✅ Training completed successfully!\n"
          ]
        }
      ],
      "source": [
        "criterion = nn.CrossEntropyLoss()\n",
        "optimizer = optim.Adam(model.parameters(), lr=0.001)\n",
        "num_epochs = 15\n",
        "\n",
        "losses, accuracies = [], []\n",
        "\n",
        "for epoch in range(num_epochs):\n",
        "    model.train()\n",
        "    running_loss, correct, total = 0, 0, 0\n",
        "\n",
        "    for images, labels in train_loader:\n",
        "        images, labels = images.to(device), labels.to(device)\n",
        "\n",
        "        outputs = model(images)\n",
        "        loss = criterion(outputs, labels)\n",
        "        optimizer.zero_grad()\n",
        "        loss.backward()\n",
        "        optimizer.step()\n",
        "\n",
        "        running_loss += loss.item()\n",
        "        _, predicted = torch.max(outputs, 1)\n",
        "        total += labels.size(0)\n",
        "        correct += (predicted == labels).sum().item()\n",
        "\n",
        "    acc = 100 * correct / total\n",
        "    losses.append(running_loss / len(train_loader))\n",
        "    accuracies.append(acc)\n",
        "    print(f\"Epoch [{epoch+1}/{num_epochs}] - Loss: {running_loss/len(train_loader):.4f} - Accuracy: {acc:.2f}%\")\n",
        "\n",
        "print(\"✅ Training completed successfully!\")\n"
      ]
    },
    {
      "cell_type": "code",
      "execution_count": 16,
      "metadata": {
        "id": "NA3Vd473Ptb_"
      },
      "outputs": [
        {
          "name": "stdout",
          "output_type": "stream",
          "text": [
            "Device: cpu\n"
          ]
        }
      ],
      "source": [
        "'''\n",
        "from google.colab import drive\n",
        "drive.mount('/content/drive')\n",
        "'''\n",
        "\n",
        "import os, time, math, random\n",
        "import torch, torch.nn as nn, torch.optim as optim\n",
        "from torch.utils.data import DataLoader, ConcatDataset, Dataset\n",
        "import torchvision.transforms as transforms\n",
        "import torchvision.datasets as datasets\n",
        "from torchvision.utils import save_image, make_grid\n",
        "import numpy as np\n",
        "import matplotlib.pyplot as plt\n",
        "from tqdm import tqdm\n",
        "\n",
        "device = torch.device('cuda' if torch.cuda.is_available() else 'cpu')\n",
        "print(\"Device:\", device)\n",
        "\n",
        "WORKDIR = './FlowerGAN_Project'\n",
        "os.makedirs(WORKDIR, exist_ok=True)\n",
        "os.makedirs(os.path.join(WORKDIR,'checkpoints'), exist_ok=True)\n",
        "os.makedirs(os.path.join(WORKDIR,'gan_samples'), exist_ok=True)\n",
        "os.makedirs(os.path.join(WORKDIR,'generated'), exist_ok=True)\n"
      ]
    },
    {
      "cell_type": "code",
      "execution_count": 17,
      "metadata": {
        "id": "l9T2EicYQwXS"
      },
      "outputs": [
        {
          "name": "stdout",
          "output_type": "stream",
          "text": [
            "Classes: ['daisy', 'dandelion', 'roses', 'sunflowers', 'tulips'] Num images: 3670\n"
          ]
        }
      ],
      "source": [
        "data_dir = os.path.join(WORKDIR, 'flowers')   # should already exist\n",
        "img_size = 64\n",
        "batch_size = 64\n",
        "\n",
        "gan_transform = transforms.Compose([\n",
        "    transforms.Resize((img_size, img_size)),\n",
        "    transforms.ToTensor(),\n",
        "    transforms.Normalize((0.5,0.5,0.5),(0.5,0.5,0.5))  # DCGAN uses [-1,1] with tanh\n",
        "])\n",
        "\n",
        "gan_dataset = datasets.ImageFolder(data_dir, transform=gan_transform)\n",
        "gan_loader = DataLoader(gan_dataset, batch_size=batch_size, shuffle=True, num_workers=2, pin_memory=True)\n",
        "\n",
        "num_classes = len(gan_dataset.classes)\n",
        "print(\"Classes:\", gan_dataset.classes, \"Num images:\", len(gan_dataset))\n"
      ]
    },
    {
      "cell_type": "code",
      "execution_count": 18,
      "metadata": {
        "id": "fWny_cjyQ07m"
      },
      "outputs": [],
      "source": [
        "# Conditional Generator: embed label, concat with z\n",
        "class Generator(nn.Module):\n",
        "    def __init__(self, z_dim=100, n_classes=5, img_channels=3, feature_g=64):\n",
        "        super().__init__()\n",
        "        self.z_dim = z_dim\n",
        "        self.label_emb = nn.Embedding(n_classes, n_classes)\n",
        "        self.fc = nn.Linear(z_dim + n_classes, feature_g*8*4*4)\n",
        "        self.net = nn.Sequential(\n",
        "            nn.ConvTranspose2d(feature_g*8, feature_g*4, 4, 2, 1, bias=False),\n",
        "            nn.BatchNorm2d(feature_g*4), nn.ReLU(True),\n",
        "            nn.ConvTranspose2d(feature_g*4, feature_g*2, 4, 2, 1, bias=False),\n",
        "            nn.BatchNorm2d(feature_g*2), nn.ReLU(True),\n",
        "            nn.ConvTranspose2d(feature_g*2, feature_g, 4, 2, 1, bias=False),\n",
        "            nn.BatchNorm2d(feature_g), nn.ReLU(True),\n",
        "            nn.ConvTranspose2d(feature_g, img_channels, 3, 1, 1, bias=False),\n",
        "            nn.Tanh()\n",
        "        )\n",
        "\n",
        "    def forward(self, z, labels):\n",
        "        lab = self.label_emb(labels)\n",
        "        x = torch.cat([z, lab], dim=1)\n",
        "        x = self.fc(x)\n",
        "        x = x.view(x.size(0), -1, 4, 4)\n",
        "        x = self.net(x)\n",
        "        return x\n",
        "\n",
        "# Conditional Discriminator: expand label to spatial map and concat to image\n",
        "class Discriminator(nn.Module):\n",
        "    def __init__(self, n_classes=5, img_channels=3, feature_d=64):\n",
        "        super().__init__()\n",
        "        self.label_emb = nn.Embedding(n_classes, n_classes)\n",
        "        self.conv = nn.Sequential(\n",
        "            nn.Conv2d(img_channels + n_classes, feature_d, 4, 2, 1),\n",
        "            nn.LeakyReLU(0.2, inplace=True),\n",
        "            nn.Conv2d(feature_d, feature_d*2, 4, 2, 1),\n",
        "            nn.BatchNorm2d(feature_d*2), nn.LeakyReLU(0.2, inplace=True),\n",
        "            nn.Conv2d(feature_d*2, feature_d*4, 4, 2, 1),\n",
        "            nn.BatchNorm2d(feature_d*4), nn.LeakyReLU(0.2, inplace=True),\n",
        "            nn.Conv2d(feature_d*4, 1, 4, 1, 0)\n",
        "        )\n",
        "\n",
        "    def forward(self, img, labels):\n",
        "        b, c, h, w = img.shape\n",
        "        lab = self.label_emb(labels).unsqueeze(2).unsqueeze(3)  # b x n_classes x1x1\n",
        "        lab_map = lab.expand(-1, -1, h, w)\n",
        "        x = torch.cat([img, lab_map], dim=1)\n",
        "        out = self.conv(x)\n",
        "        return out.view(-1)  # logits\n"
      ]
    },
    {
      "cell_type": "code",
      "execution_count": 19,
      "metadata": {
        "id": "GBH6w1FoQ7fh"
      },
      "outputs": [
        {
          "name": "stdout",
          "output_type": "stream",
          "text": [
            "G params: 3623513\n",
            "D params: 668890\n"
          ]
        }
      ],
      "source": [
        "z_dim = 100\n",
        "G = Generator(z_dim=z_dim, n_classes=num_classes).to(device)\n",
        "D = Discriminator(n_classes=num_classes).to(device)\n",
        "\n",
        "lr = 2e-4\n",
        "optimG = optim.Adam(G.parameters(), lr=lr, betas=(0.5,0.999))\n",
        "optimD = optim.Adam(D.parameters(), lr=lr, betas=(0.5,0.999))\n",
        "criterion = nn.BCEWithLogitsLoss()\n",
        "\n",
        "print(\"G params:\", sum(p.numel() for p in G.parameters()))\n",
        "print(\"D params:\", sum(p.numel() for p in D.parameters()))\n"
      ]
    },
    {
      "cell_type": "code",
      "execution_count": 20,
      "metadata": {
        "id": "-ueb6MdDRmN7"
      },
      "outputs": [
        {
          "name": "stderr",
          "output_type": "stream",
          "text": [
            "Epoch 1/50: 100%|██████████| 58/58 [01:05<00:00,  1.13s/it]\n"
          ]
        },
        {
          "name": "stdout",
          "output_type": "stream",
          "text": [
            "Epoch 1/50 | D_loss: 0.1496 | G_loss: 3.2219\n",
            "💾 Saved sample image to: ./FlowerGAN_Project\\gan_samples\\samples_epoch_1.png\n",
            "✅ Checkpoint saved for epoch 1\n"
          ]
        },
        {
          "name": "stderr",
          "output_type": "stream",
          "text": [
            "Epoch 2/50: 100%|██████████| 58/58 [01:07<00:00,  1.16s/it]\n"
          ]
        },
        {
          "name": "stdout",
          "output_type": "stream",
          "text": [
            "Epoch 2/50 | D_loss: 0.0191 | G_loss: 4.6317\n"
          ]
        },
        {
          "name": "stderr",
          "output_type": "stream",
          "text": [
            "Epoch 3/50: 100%|██████████| 58/58 [00:53<00:00,  1.08it/s]\n"
          ]
        },
        {
          "name": "stdout",
          "output_type": "stream",
          "text": [
            "Epoch 3/50 | D_loss: 0.0067 | G_loss: 5.5568\n"
          ]
        },
        {
          "name": "stderr",
          "output_type": "stream",
          "text": [
            "Epoch 4/50: 100%|██████████| 58/58 [00:54<00:00,  1.06it/s]\n"
          ]
        },
        {
          "name": "stdout",
          "output_type": "stream",
          "text": [
            "Epoch 4/50 | D_loss: 0.0033 | G_loss: 6.2801\n"
          ]
        },
        {
          "name": "stderr",
          "output_type": "stream",
          "text": [
            "Epoch 5/50: 100%|██████████| 58/58 [01:01<00:00,  1.06s/it]\n"
          ]
        },
        {
          "name": "stdout",
          "output_type": "stream",
          "text": [
            "Epoch 5/50 | D_loss: 0.0019 | G_loss: 6.7533\n",
            "💾 Saved sample image to: ./FlowerGAN_Project\\gan_samples\\samples_epoch_5.png\n",
            "✅ Checkpoint saved for epoch 5\n"
          ]
        },
        {
          "name": "stderr",
          "output_type": "stream",
          "text": [
            "Epoch 6/50: 100%|██████████| 58/58 [01:04<00:00,  1.11s/it]\n"
          ]
        },
        {
          "name": "stdout",
          "output_type": "stream",
          "text": [
            "Epoch 6/50 | D_loss: 0.0012 | G_loss: 7.2455\n"
          ]
        },
        {
          "name": "stderr",
          "output_type": "stream",
          "text": [
            "Epoch 7/50: 100%|██████████| 58/58 [00:55<00:00,  1.05it/s]\n"
          ]
        },
        {
          "name": "stdout",
          "output_type": "stream",
          "text": [
            "Epoch 7/50 | D_loss: 0.0008 | G_loss: 7.6077\n"
          ]
        },
        {
          "name": "stderr",
          "output_type": "stream",
          "text": [
            "Epoch 8/50: 100%|██████████| 58/58 [00:38<00:00,  1.50it/s]\n"
          ]
        },
        {
          "name": "stdout",
          "output_type": "stream",
          "text": [
            "Epoch 8/50 | D_loss: 0.0006 | G_loss: 7.9362\n"
          ]
        },
        {
          "name": "stderr",
          "output_type": "stream",
          "text": [
            "Epoch 9/50: 100%|██████████| 58/58 [00:41<00:00,  1.41it/s]\n"
          ]
        },
        {
          "name": "stdout",
          "output_type": "stream",
          "text": [
            "Epoch 9/50 | D_loss: 0.0005 | G_loss: 8.2932\n"
          ]
        },
        {
          "name": "stderr",
          "output_type": "stream",
          "text": [
            "Epoch 10/50: 100%|██████████| 58/58 [01:00<00:00,  1.04s/it]\n"
          ]
        },
        {
          "name": "stdout",
          "output_type": "stream",
          "text": [
            "Epoch 10/50 | D_loss: 0.0004 | G_loss: 8.4604\n",
            "💾 Saved sample image to: ./FlowerGAN_Project\\gan_samples\\samples_epoch_10.png\n",
            "✅ Checkpoint saved for epoch 10\n"
          ]
        },
        {
          "name": "stderr",
          "output_type": "stream",
          "text": [
            "Epoch 11/50: 100%|██████████| 58/58 [00:55<00:00,  1.05it/s]\n"
          ]
        },
        {
          "name": "stdout",
          "output_type": "stream",
          "text": [
            "Epoch 11/50 | D_loss: 0.0003 | G_loss: 8.7065\n"
          ]
        },
        {
          "name": "stderr",
          "output_type": "stream",
          "text": [
            "Epoch 12/50: 100%|██████████| 58/58 [00:43<00:00,  1.34it/s]\n"
          ]
        },
        {
          "name": "stdout",
          "output_type": "stream",
          "text": [
            "Epoch 12/50 | D_loss: 0.0002 | G_loss: 8.9451\n"
          ]
        },
        {
          "name": "stderr",
          "output_type": "stream",
          "text": [
            "Epoch 13/50: 100%|██████████| 58/58 [00:53<00:00,  1.08it/s]\n"
          ]
        },
        {
          "name": "stdout",
          "output_type": "stream",
          "text": [
            "Epoch 13/50 | D_loss: 0.0002 | G_loss: 9.1105\n"
          ]
        },
        {
          "name": "stderr",
          "output_type": "stream",
          "text": [
            "Epoch 14/50: 100%|██████████| 58/58 [01:05<00:00,  1.13s/it]\n"
          ]
        },
        {
          "name": "stdout",
          "output_type": "stream",
          "text": [
            "Epoch 14/50 | D_loss: 0.0002 | G_loss: 9.2901\n"
          ]
        },
        {
          "name": "stderr",
          "output_type": "stream",
          "text": [
            "Epoch 15/50: 100%|██████████| 58/58 [00:46<00:00,  1.26it/s]\n"
          ]
        },
        {
          "name": "stdout",
          "output_type": "stream",
          "text": [
            "Epoch 15/50 | D_loss: 0.0001 | G_loss: 9.4173\n",
            "💾 Saved sample image to: ./FlowerGAN_Project\\gan_samples\\samples_epoch_15.png\n",
            "✅ Checkpoint saved for epoch 15\n"
          ]
        },
        {
          "name": "stderr",
          "output_type": "stream",
          "text": [
            "Epoch 16/50: 100%|██████████| 58/58 [00:41<00:00,  1.40it/s]\n"
          ]
        },
        {
          "name": "stdout",
          "output_type": "stream",
          "text": [
            "Epoch 16/50 | D_loss: 0.0001 | G_loss: 9.6426\n"
          ]
        },
        {
          "name": "stderr",
          "output_type": "stream",
          "text": [
            "Epoch 17/50: 100%|██████████| 58/58 [00:41<00:00,  1.41it/s]\n"
          ]
        },
        {
          "name": "stdout",
          "output_type": "stream",
          "text": [
            "Epoch 17/50 | D_loss: 0.0001 | G_loss: 9.7827\n"
          ]
        },
        {
          "name": "stderr",
          "output_type": "stream",
          "text": [
            "Epoch 18/50: 100%|██████████| 58/58 [01:04<00:00,  1.11s/it]\n"
          ]
        },
        {
          "name": "stdout",
          "output_type": "stream",
          "text": [
            "Epoch 18/50 | D_loss: 0.0001 | G_loss: 9.9042\n"
          ]
        },
        {
          "name": "stderr",
          "output_type": "stream",
          "text": [
            "Epoch 19/50: 100%|██████████| 58/58 [01:11<00:00,  1.24s/it]\n"
          ]
        },
        {
          "name": "stdout",
          "output_type": "stream",
          "text": [
            "Epoch 19/50 | D_loss: 0.0001 | G_loss: 10.0279\n"
          ]
        },
        {
          "name": "stderr",
          "output_type": "stream",
          "text": [
            "Epoch 20/50: 100%|██████████| 58/58 [00:47<00:00,  1.21it/s]\n"
          ]
        },
        {
          "name": "stdout",
          "output_type": "stream",
          "text": [
            "Epoch 20/50 | D_loss: 0.0001 | G_loss: 10.2359\n",
            "💾 Saved sample image to: ./FlowerGAN_Project\\gan_samples\\samples_epoch_20.png\n",
            "✅ Checkpoint saved for epoch 20\n"
          ]
        },
        {
          "name": "stderr",
          "output_type": "stream",
          "text": [
            "Epoch 21/50: 100%|██████████| 58/58 [00:47<00:00,  1.23it/s]\n"
          ]
        },
        {
          "name": "stdout",
          "output_type": "stream",
          "text": [
            "Epoch 21/50 | D_loss: 0.0001 | G_loss: 10.2289\n"
          ]
        },
        {
          "name": "stderr",
          "output_type": "stream",
          "text": [
            "Epoch 22/50: 100%|██████████| 58/58 [00:38<00:00,  1.52it/s]\n"
          ]
        },
        {
          "name": "stdout",
          "output_type": "stream",
          "text": [
            "Epoch 22/50 | D_loss: 0.0001 | G_loss: 10.3447\n"
          ]
        },
        {
          "name": "stderr",
          "output_type": "stream",
          "text": [
            "Epoch 23/50: 100%|██████████| 58/58 [00:43<00:00,  1.34it/s]\n"
          ]
        },
        {
          "name": "stdout",
          "output_type": "stream",
          "text": [
            "Epoch 23/50 | D_loss: 0.0000 | G_loss: 10.4905\n"
          ]
        },
        {
          "name": "stderr",
          "output_type": "stream",
          "text": [
            "Epoch 24/50: 100%|██████████| 58/58 [00:55<00:00,  1.05it/s]\n"
          ]
        },
        {
          "name": "stdout",
          "output_type": "stream",
          "text": [
            "Epoch 24/50 | D_loss: 0.0000 | G_loss: 10.5507\n"
          ]
        },
        {
          "name": "stderr",
          "output_type": "stream",
          "text": [
            "Epoch 25/50: 100%|██████████| 58/58 [00:53<00:00,  1.09it/s]\n"
          ]
        },
        {
          "name": "stdout",
          "output_type": "stream",
          "text": [
            "Epoch 25/50 | D_loss: 0.0000 | G_loss: 10.6745\n",
            "💾 Saved sample image to: ./FlowerGAN_Project\\gan_samples\\samples_epoch_25.png\n",
            "✅ Checkpoint saved for epoch 25\n"
          ]
        },
        {
          "name": "stderr",
          "output_type": "stream",
          "text": [
            "Epoch 26/50: 100%|██████████| 58/58 [00:44<00:00,  1.31it/s]\n"
          ]
        },
        {
          "name": "stdout",
          "output_type": "stream",
          "text": [
            "Epoch 26/50 | D_loss: 0.0000 | G_loss: 10.7078\n"
          ]
        },
        {
          "name": "stderr",
          "output_type": "stream",
          "text": [
            "Epoch 27/50: 100%|██████████| 58/58 [01:04<00:00,  1.11s/it]\n"
          ]
        },
        {
          "name": "stdout",
          "output_type": "stream",
          "text": [
            "Epoch 27/50 | D_loss: 0.0000 | G_loss: 10.7496\n"
          ]
        },
        {
          "name": "stderr",
          "output_type": "stream",
          "text": [
            "Epoch 28/50: 100%|██████████| 58/58 [00:39<00:00,  1.45it/s]\n"
          ]
        },
        {
          "name": "stdout",
          "output_type": "stream",
          "text": [
            "Epoch 28/50 | D_loss: 0.0000 | G_loss: 10.8893\n"
          ]
        },
        {
          "name": "stderr",
          "output_type": "stream",
          "text": [
            "Epoch 29/50: 100%|██████████| 58/58 [01:03<00:00,  1.10s/it]\n"
          ]
        },
        {
          "name": "stdout",
          "output_type": "stream",
          "text": [
            "Epoch 29/50 | D_loss: 0.0000 | G_loss: 10.9918\n"
          ]
        },
        {
          "name": "stderr",
          "output_type": "stream",
          "text": [
            "Epoch 30/50: 100%|██████████| 58/58 [00:56<00:00,  1.02it/s]\n"
          ]
        },
        {
          "name": "stdout",
          "output_type": "stream",
          "text": [
            "Epoch 30/50 | D_loss: 0.0000 | G_loss: 11.0183\n",
            "💾 Saved sample image to: ./FlowerGAN_Project\\gan_samples\\samples_epoch_30.png\n",
            "✅ Checkpoint saved for epoch 30\n"
          ]
        },
        {
          "name": "stderr",
          "output_type": "stream",
          "text": [
            "Epoch 31/50: 100%|██████████| 58/58 [00:43<00:00,  1.34it/s]\n"
          ]
        },
        {
          "name": "stdout",
          "output_type": "stream",
          "text": [
            "Epoch 31/50 | D_loss: 0.0000 | G_loss: 11.0929\n"
          ]
        },
        {
          "name": "stderr",
          "output_type": "stream",
          "text": [
            "Epoch 32/50: 100%|██████████| 58/58 [00:52<00:00,  1.11it/s]\n"
          ]
        },
        {
          "name": "stdout",
          "output_type": "stream",
          "text": [
            "Epoch 32/50 | D_loss: 0.0000 | G_loss: 11.2422\n"
          ]
        },
        {
          "name": "stderr",
          "output_type": "stream",
          "text": [
            "Epoch 33/50: 100%|██████████| 58/58 [00:54<00:00,  1.06it/s]\n"
          ]
        },
        {
          "name": "stdout",
          "output_type": "stream",
          "text": [
            "Epoch 33/50 | D_loss: 0.0000 | G_loss: 11.2210\n"
          ]
        },
        {
          "name": "stderr",
          "output_type": "stream",
          "text": [
            "Epoch 34/50: 100%|██████████| 58/58 [01:08<00:00,  1.19s/it]\n"
          ]
        },
        {
          "name": "stdout",
          "output_type": "stream",
          "text": [
            "Epoch 34/50 | D_loss: 0.0000 | G_loss: 11.3135\n"
          ]
        },
        {
          "name": "stderr",
          "output_type": "stream",
          "text": [
            "Epoch 35/50: 100%|██████████| 58/58 [01:09<00:00,  1.21s/it]\n"
          ]
        },
        {
          "name": "stdout",
          "output_type": "stream",
          "text": [
            "Epoch 35/50 | D_loss: 0.0000 | G_loss: 11.4448\n",
            "💾 Saved sample image to: ./FlowerGAN_Project\\gan_samples\\samples_epoch_35.png\n",
            "✅ Checkpoint saved for epoch 35\n"
          ]
        },
        {
          "name": "stderr",
          "output_type": "stream",
          "text": [
            "Epoch 36/50: 100%|██████████| 58/58 [01:07<00:00,  1.16s/it]\n"
          ]
        },
        {
          "name": "stdout",
          "output_type": "stream",
          "text": [
            "Epoch 36/50 | D_loss: 0.0000 | G_loss: 11.5085\n"
          ]
        },
        {
          "name": "stderr",
          "output_type": "stream",
          "text": [
            "Epoch 37/50: 100%|██████████| 58/58 [00:48<00:00,  1.20it/s]\n"
          ]
        },
        {
          "name": "stdout",
          "output_type": "stream",
          "text": [
            "Epoch 37/50 | D_loss: 0.0000 | G_loss: 11.5881\n"
          ]
        },
        {
          "name": "stderr",
          "output_type": "stream",
          "text": [
            "Epoch 38/50: 100%|██████████| 58/58 [00:50<00:00,  1.15it/s]\n"
          ]
        },
        {
          "name": "stdout",
          "output_type": "stream",
          "text": [
            "Epoch 38/50 | D_loss: 0.0000 | G_loss: 11.6128\n"
          ]
        },
        {
          "name": "stderr",
          "output_type": "stream",
          "text": [
            "Epoch 39/50: 100%|██████████| 58/58 [01:07<00:00,  1.16s/it]\n"
          ]
        },
        {
          "name": "stdout",
          "output_type": "stream",
          "text": [
            "Epoch 39/50 | D_loss: 0.0000 | G_loss: 11.7606\n"
          ]
        },
        {
          "name": "stderr",
          "output_type": "stream",
          "text": [
            "Epoch 40/50: 100%|██████████| 58/58 [00:57<00:00,  1.01it/s]\n"
          ]
        },
        {
          "name": "stdout",
          "output_type": "stream",
          "text": [
            "Epoch 40/50 | D_loss: 0.0000 | G_loss: 11.9216\n",
            "💾 Saved sample image to: ./FlowerGAN_Project\\gan_samples\\samples_epoch_40.png\n",
            "✅ Checkpoint saved for epoch 40\n"
          ]
        },
        {
          "name": "stderr",
          "output_type": "stream",
          "text": [
            "Epoch 41/50: 100%|██████████| 58/58 [00:47<00:00,  1.22it/s]\n"
          ]
        },
        {
          "name": "stdout",
          "output_type": "stream",
          "text": [
            "Epoch 41/50 | D_loss: 0.0000 | G_loss: 11.8623\n"
          ]
        },
        {
          "name": "stderr",
          "output_type": "stream",
          "text": [
            "Epoch 42/50: 100%|██████████| 58/58 [00:46<00:00,  1.25it/s]\n"
          ]
        },
        {
          "name": "stdout",
          "output_type": "stream",
          "text": [
            "Epoch 42/50 | D_loss: 0.0000 | G_loss: 11.8948\n"
          ]
        },
        {
          "name": "stderr",
          "output_type": "stream",
          "text": [
            "Epoch 43/50: 100%|██████████| 58/58 [00:44<00:00,  1.31it/s]\n"
          ]
        },
        {
          "name": "stdout",
          "output_type": "stream",
          "text": [
            "Epoch 43/50 | D_loss: 0.0000 | G_loss: 11.5496\n"
          ]
        },
        {
          "name": "stderr",
          "output_type": "stream",
          "text": [
            "Epoch 44/50: 100%|██████████| 58/58 [00:46<00:00,  1.24it/s]\n"
          ]
        },
        {
          "name": "stdout",
          "output_type": "stream",
          "text": [
            "Epoch 44/50 | D_loss: 0.0000 | G_loss: 11.6070\n"
          ]
        },
        {
          "name": "stderr",
          "output_type": "stream",
          "text": [
            "Epoch 45/50: 100%|██████████| 58/58 [00:42<00:00,  1.35it/s]\n"
          ]
        },
        {
          "name": "stdout",
          "output_type": "stream",
          "text": [
            "Epoch 45/50 | D_loss: 0.0000 | G_loss: 11.9438\n",
            "💾 Saved sample image to: ./FlowerGAN_Project\\gan_samples\\samples_epoch_45.png\n",
            "✅ Checkpoint saved for epoch 45\n"
          ]
        },
        {
          "name": "stderr",
          "output_type": "stream",
          "text": [
            "Epoch 46/50: 100%|██████████| 58/58 [00:44<00:00,  1.31it/s]\n"
          ]
        },
        {
          "name": "stdout",
          "output_type": "stream",
          "text": [
            "Epoch 46/50 | D_loss: 0.0000 | G_loss: 12.1121\n"
          ]
        },
        {
          "name": "stderr",
          "output_type": "stream",
          "text": [
            "Epoch 47/50: 100%|██████████| 58/58 [01:04<00:00,  1.12s/it]\n"
          ]
        },
        {
          "name": "stdout",
          "output_type": "stream",
          "text": [
            "Epoch 47/50 | D_loss: 0.0000 | G_loss: 12.2454\n"
          ]
        },
        {
          "name": "stderr",
          "output_type": "stream",
          "text": [
            "Epoch 48/50: 100%|██████████| 58/58 [01:03<00:00,  1.10s/it]\n"
          ]
        },
        {
          "name": "stdout",
          "output_type": "stream",
          "text": [
            "Epoch 48/50 | D_loss: 0.0000 | G_loss: 12.2751\n"
          ]
        },
        {
          "name": "stderr",
          "output_type": "stream",
          "text": [
            "Epoch 49/50: 100%|██████████| 58/58 [01:03<00:00,  1.09s/it]\n"
          ]
        },
        {
          "name": "stdout",
          "output_type": "stream",
          "text": [
            "Epoch 49/50 | D_loss: 0.0000 | G_loss: 12.4694\n"
          ]
        },
        {
          "name": "stderr",
          "output_type": "stream",
          "text": [
            "Epoch 50/50: 100%|██████████| 58/58 [01:00<00:00,  1.05s/it]\n"
          ]
        },
        {
          "name": "stdout",
          "output_type": "stream",
          "text": [
            "Epoch 50/50 | D_loss: 0.0000 | G_loss: 12.3994\n",
            "💾 Saved sample image to: ./FlowerGAN_Project\\gan_samples\\samples_epoch_50.png\n",
            "✅ Checkpoint saved for epoch 50\n"
          ]
        }
      ],
      "source": [
        "num_epochs = 50                # You can reduce to 25 for quick test\n",
        "sample_interval = 5            # Save generated samples every N epochs\n",
        "z_dim = 100                    # Latent noise dimension (must match Generator)\n",
        "fixed_z = torch.randn(64, z_dim, device=device)\n",
        "fixed_labels = torch.arange(0, num_classes, device=device).repeat(64 // num_classes + 1)[:64].long()\n",
        "\n",
        "for epoch in range(1, num_epochs + 1):\n",
        "    G.train()\n",
        "    D.train()\n",
        "    epoch_g_loss = 0.0\n",
        "    epoch_d_loss = 0.0\n",
        "\n",
        "    for real_imgs, labels in tqdm(gan_loader, desc=f\"Epoch {epoch}/{num_epochs}\"):\n",
        "        b = real_imgs.size(0)\n",
        "        real_imgs = real_imgs.to(device)\n",
        "        labels = labels.to(device)\n",
        "\n",
        "        # ============================\n",
        "        #  Train Discriminator (D)\n",
        "        # ============================\n",
        "        D.zero_grad()\n",
        "\n",
        "        # Real images\n",
        "        real_logits = D(real_imgs, labels)\n",
        "        real_targets = torch.ones_like(real_logits, device=device)\n",
        "        loss_real = criterion(real_logits, real_targets)\n",
        "\n",
        "        # Fake images\n",
        "        z = torch.randn(b, z_dim, device=device)\n",
        "        rand_labels = torch.randint(0, num_classes, (b,), device=device)\n",
        "        fake_imgs = G(z, rand_labels)\n",
        "        fake_logits = D(fake_imgs.detach(), rand_labels)\n",
        "        fake_targets = torch.zeros_like(fake_logits, device=device)\n",
        "        loss_fake = criterion(fake_logits, fake_targets)\n",
        "\n",
        "        # Total discriminator loss\n",
        "        lossD = (loss_real + loss_fake) * 0.5\n",
        "        lossD.backward()\n",
        "        optimD.step()\n",
        "\n",
        "        # ============================\n",
        "        #  Train Generator (G)\n",
        "        # ============================\n",
        "        G.zero_grad()\n",
        "        gen_logits = D(fake_imgs, rand_labels)\n",
        "        gen_targets = torch.ones_like(gen_logits, device=device)  # we want D to think fakes are real\n",
        "        lossG = criterion(gen_logits, gen_targets)\n",
        "        lossG.backward()\n",
        "        optimG.step()\n",
        "\n",
        "        epoch_d_loss += lossD.item() * b\n",
        "        epoch_g_loss += lossG.item() * b\n",
        "\n",
        "    # Average losses\n",
        "    epoch_d_loss /= len(gan_dataset)\n",
        "    epoch_g_loss /= len(gan_dataset)\n",
        "\n",
        "    print(f\"Epoch {epoch}/{num_epochs} | D_loss: {epoch_d_loss:.4f} | G_loss: {epoch_g_loss:.4f}\")\n",
        "\n",
        "    # ============================\n",
        "    # Save samples & checkpoints\n",
        "    # ============================\n",
        "    if epoch % sample_interval == 0 or epoch == 1:\n",
        "        G.eval()\n",
        "        with torch.no_grad():\n",
        "            imgs = G(fixed_z, fixed_labels).cpu()\n",
        "            imgs = (imgs + 1) * 0.5  # Rescale from [-1,1] to [0,1]\n",
        "            grid = make_grid(imgs, nrow=8, normalize=False)\n",
        "            save_path = os.path.join(WORKDIR, 'gan_samples', f'samples_epoch_{epoch}.png')\n",
        "            save_image(grid, save_path)\n",
        "            print(f\"💾 Saved sample image to: {save_path}\")\n",
        "\n",
        "        # Save model checkpoints\n",
        "        torch.save({\n",
        "            'epoch': epoch,\n",
        "            'G_state': G.state_dict(),\n",
        "            'D_state': D.state_dict(),\n",
        "            'G_loss': epoch_g_loss,\n",
        "            'D_loss': epoch_d_loss\n",
        "        }, os.path.join(WORKDIR, 'checkpoints', f'gan_epoch_{epoch}.pth'))\n",
        "        print(f\"✅ Checkpoint saved for epoch {epoch}\")\n"
      ]
    },
    {
      "cell_type": "code",
      "execution_count": 21,
      "metadata": {
        "id": "2tSVl9KRaZ1M"
      },
      "outputs": [
        {
          "name": "stdout",
          "output_type": "stream",
          "text": [
            "✅ Loaded Generator from epoch 50\n",
            "Generating images for class: daisy\n",
            "✅ Saved 500 images for class 'daisy'\n",
            "Generating images for class: dandelion\n",
            "✅ Saved 500 images for class 'dandelion'\n",
            "Generating images for class: roses\n",
            "✅ Saved 500 images for class 'roses'\n",
            "Generating images for class: sunflowers\n",
            "✅ Saved 500 images for class 'sunflowers'\n",
            "Generating images for class: tulips\n",
            "✅ Saved 500 images for class 'tulips'\n",
            "🎉 All classes generated and saved at: ./FlowerGAN_Project/generated\n"
          ]
        }
      ],
      "source": [
        "import torch\n",
        "import os\n",
        "from torchvision.utils import save_image\n",
        "\n",
        "# ---------- Load trained Generator ----------\n",
        "checkpoint_path = './FlowerGAN_Project/checkpoints/gan_epoch_50.pth'\n",
        "ckpt = torch.load(checkpoint_path, map_location=device)\n",
        "G.load_state_dict(ckpt['G_state'])\n",
        "G.eval()\n",
        "print(\"✅ Loaded Generator from epoch\", ckpt['epoch'])\n",
        "\n",
        "# ---------- Settings ----------\n",
        "n_per_class = 500        # how many images per class\n",
        "z_dim = 100              # latent dimension (same as training)\n",
        "save_root = './FlowerGAN_Project/generated'\n",
        "os.makedirs(save_root, exist_ok=True)\n",
        "\n",
        "# ---------- Generate ----------\n",
        "with torch.no_grad():\n",
        "    for c in range(num_classes):\n",
        "        class_folder = os.path.join(save_root, gan_dataset.classes[c])\n",
        "        os.makedirs(class_folder, exist_ok=True)\n",
        "        print(f\"Generating images for class: {gan_dataset.classes[c]}\")\n",
        "        generated = 0\n",
        "        batch = 64\n",
        "        while generated < n_per_class:\n",
        "            z = torch.randn(batch, z_dim, device=device)\n",
        "            labels = torch.full((batch,), c, dtype=torch.long, device=device)\n",
        "            fake_imgs = G(z, labels)\n",
        "            fake_imgs = (fake_imgs + 1) * 0.5  # [-1,1] → [0,1]\n",
        "            for i in range(fake_imgs.size(0)):\n",
        "                if generated >= n_per_class:\n",
        "                    break\n",
        "                file_path = os.path.join(class_folder, f\"{gan_dataset.classes[c]}_{generated:04d}.png\")\n",
        "                save_image(fake_imgs[i], file_path)\n",
        "                generated += 1\n",
        "        print(f\"✅ Saved {generated} images for class '{gan_dataset.classes[c]}'\")\n",
        "\n",
        "print(\"🎉 All classes generated and saved at:\", save_root)\n"
      ]
    },
    {
      "cell_type": "code",
      "execution_count": 22,
      "metadata": {
        "id": "8YACycZebm6e"
      },
      "outputs": [
        {
          "name": "stdout",
          "output_type": "stream",
          "text": [
            "Total images: 3670 Train: 2936 Val: 734\n",
            "Classes: ['daisy', 'dandelion', 'roses', 'sunflowers', 'tulips']\n",
            "Epoch 1/8  TrainLoss:1.3213 TrainAcc:43.32%  ValLoss:1.0417 ValAcc:55.18%\n",
            "Epoch 2/8  TrainLoss:1.0327 TrainAcc:58.75%  ValLoss:0.9679 ValAcc:61.85%\n",
            "Epoch 3/8  TrainLoss:0.9050 TrainAcc:65.16%  ValLoss:0.8699 ValAcc:65.80%\n",
            "Epoch 4/8  TrainLoss:0.7876 TrainAcc:70.10%  ValLoss:0.9082 ValAcc:64.31%\n",
            "Epoch 5/8  TrainLoss:0.6350 TrainAcc:76.53%  ValLoss:0.8552 ValAcc:67.30%\n",
            "Epoch 6/8  TrainLoss:0.4975 TrainAcc:81.34%  ValLoss:0.9547 ValAcc:64.99%\n",
            "Epoch 7/8  TrainLoss:0.3366 TrainAcc:88.22%  ValLoss:1.0733 ValAcc:65.67%\n",
            "Epoch 8/8  TrainLoss:0.2668 TrainAcc:91.52%  ValLoss:1.1711 ValAcc:63.62%\n",
            "✅ Baseline model saved to: ./FlowerGAN_Project\\model_baseline.pth\n"
          ]
        }
      ],
      "source": [
        "# Train a quick baseline classifier on Flower dataset and save it for filtering\n",
        "import os, torch, random, numpy as np\n",
        "from torch import nn, optim\n",
        "from torch.utils.data import random_split, DataLoader\n",
        "import torchvision.transforms as transforms\n",
        "import torchvision.datasets as datasets\n",
        "\n",
        "# reproducibility\n",
        "seed = 42\n",
        "torch.manual_seed(seed); random.seed(seed); np.random.seed(seed)\n",
        "\n",
        "WORKDIR = './FlowerGAN_Project'\n",
        "data_dir = os.path.join(WORKDIR, 'flowers')\n",
        "\n",
        "# transforms (same as we will use for filtering)\n",
        "transform = transforms.Compose([\n",
        "    transforms.Resize((128,128)),\n",
        "    transforms.ToTensor()\n",
        "])\n",
        "\n",
        "# dataset and split (80% train, 20% val)\n",
        "full_ds = datasets.ImageFolder(data_dir, transform=transform)\n",
        "n = len(full_ds)\n",
        "n_train = int(0.8 * n)\n",
        "n_val = n - n_train\n",
        "train_ds, val_ds = random_split(full_ds, [n_train, n_val])\n",
        "\n",
        "train_loader = DataLoader(train_ds, batch_size=32, shuffle=True, num_workers=2, pin_memory=True)\n",
        "val_loader   = DataLoader(val_ds, batch_size=32, shuffle=False, num_workers=2, pin_memory=True)\n",
        "\n",
        "print(\"Total images:\", n, \"Train:\", n_train, \"Val:\", n_val)\n",
        "print(\"Classes:\", full_ds.classes)\n",
        "\n",
        "# Model definition (same small CNN used before)\n",
        "class CNNModel(nn.Module):\n",
        "    def __init__(self, num_classes=len(full_ds.classes)):\n",
        "        super().__init__()\n",
        "        self.conv1 = nn.Conv2d(3, 32, 3, padding=1)\n",
        "        self.pool = nn.MaxPool2d(2,2)\n",
        "        self.conv2 = nn.Conv2d(32,64,3,padding=1)\n",
        "        self.fc1 = nn.Linear(64 * 32 * 32, 128)\n",
        "        self.fc2 = nn.Linear(128, num_classes)\n",
        "        self.relu = nn.ReLU()\n",
        "        self.drop = nn.Dropout(0.3)\n",
        "    def forward(self,x):\n",
        "        x = self.pool(self.relu(self.conv1(x)))\n",
        "        x = self.pool(self.relu(self.conv2(x)))\n",
        "        x = x.view(x.size(0), -1)\n",
        "        x = self.drop(self.relu(self.fc1(x)))\n",
        "        return self.fc2(x)\n",
        "\n",
        "device = torch.device('cuda' if torch.cuda.is_available() else 'cpu')\n",
        "model = CNNModel().to(device)\n",
        "\n",
        "# training setup\n",
        "criterion = nn.CrossEntropyLoss()\n",
        "optimizer = optim.Adam(model.parameters(), lr=1e-3)\n",
        "epochs = 8\n",
        "\n",
        "for epoch in range(1, epochs+1):\n",
        "    model.train()\n",
        "    running_loss, correct, total = 0.0, 0, 0\n",
        "    for imgs, labels in train_loader:\n",
        "        imgs, labels = imgs.to(device), labels.to(device)\n",
        "        optimizer.zero_grad()\n",
        "        out = model(imgs)\n",
        "        loss = criterion(out, labels)\n",
        "        loss.backward()\n",
        "        optimizer.step()\n",
        "        running_loss += loss.item()\n",
        "        _, p = out.max(1)\n",
        "        total += labels.size(0); correct += (p==labels).sum().item()\n",
        "    train_acc = 100 * correct / total\n",
        "    # validation\n",
        "    model.eval()\n",
        "    vcorrect, vtotal = 0, 0\n",
        "    vloss = 0.0\n",
        "    with torch.no_grad():\n",
        "        for imgs, labels in val_loader:\n",
        "            imgs, labels = imgs.to(device), labels.to(device)\n",
        "            out = model(imgs)\n",
        "            vloss += criterion(out, labels).item()\n",
        "            _, p = out.max(1)\n",
        "            vtotal += labels.size(0); vcorrect += (p==labels).sum().item()\n",
        "    val_acc = 100 * vcorrect / vtotal\n",
        "    print(f\"Epoch {epoch}/{epochs}  TrainLoss:{running_loss/len(train_loader):.4f} TrainAcc:{train_acc:.2f}%  ValLoss:{vloss/len(val_loader):.4f} ValAcc:{val_acc:.2f}%\")\n",
        "\n",
        "# save baseline model\n",
        "save_path = os.path.join(WORKDIR, 'model_baseline.pth')\n",
        "torch.save(model.state_dict(), save_path)\n",
        "print(\"✅ Baseline model saved to:\", save_path)\n"
      ]
    },
    {
      "cell_type": "code",
      "execution_count": 23,
      "metadata": {
        "id": "1xTcE2p5bAOb"
      },
      "outputs": [],
      "source": [
        "import torch.nn as nn\n",
        "\n",
        "class CNNModel(nn.Module):\n",
        "    def __init__(self):\n",
        "        super(CNNModel, self).__init__()\n",
        "        self.conv1 = nn.Conv2d(3, 32, 3, padding=1)\n",
        "        self.pool = nn.MaxPool2d(2, 2)\n",
        "        self.conv2 = nn.Conv2d(32, 64, 3, padding=1)\n",
        "        self.fc1 = nn.Linear(64 * 32 * 32, 128)\n",
        "        self.fc2 = nn.Linear(128, 5)   # 5 classes: daisy, dandelion, roses, sunflowers, tulips\n",
        "        self.relu = nn.ReLU()\n",
        "        self.dropout = nn.Dropout(0.3)\n",
        "\n",
        "    def forward(self, x):\n",
        "        x = self.pool(self.relu(self.conv1(x)))\n",
        "        x = self.pool(self.relu(self.conv2(x)))\n",
        "        x = x.view(x.size(0), -1)\n",
        "        x = self.dropout(self.relu(self.fc1(x)))\n",
        "        x = self.fc2(x)\n",
        "        return x\n"
      ]
    },
    {
      "cell_type": "code",
      "execution_count": 24,
      "metadata": {
        "id": "OXdT_NGzasR6"
      },
      "outputs": [
        {
          "name": "stdout",
          "output_type": "stream",
          "text": [
            "✅ Loaded baseline CNN classifier\n",
            "Class 'daisy' → kept 0 high-confidence images ✅\n",
            "Class 'dandelion' → kept 0 high-confidence images ✅\n",
            "Class 'roses' → kept 0 high-confidence images ✅\n",
            "Class 'sunflowers' → kept 0 high-confidence images ✅\n",
            "Class 'tulips' → kept 500 high-confidence images ✅\n",
            "🎯 Filtered synthetic dataset saved to: ./FlowerGAN_Project/generated_filtered\n"
          ]
        }
      ],
      "source": [
        "from torchvision import transforms\n",
        "from PIL import Image\n",
        "import glob\n",
        "\n",
        "# ---------- Load baseline classifier ----------\n",
        "clf = CNNModel().to(device)\n",
        "clf.load_state_dict(torch.load('./FlowerGAN_Project/model_baseline.pth', map_location=device))\n",
        "clf.eval()\n",
        "print(\"✅ Loaded baseline CNN classifier\")\n",
        "\n",
        "# ---------- Setup ----------\n",
        "filter_threshold = 0.8   # confidence cutoff\n",
        "filtered_root = './FlowerGAN_Project/generated_filtered'\n",
        "os.makedirs(filtered_root, exist_ok=True)\n",
        "\n",
        "# same transform as baseline training\n",
        "filter_transform = transforms.Compose([\n",
        "    transforms.Resize((128,128)),\n",
        "    transforms.ToTensor()\n",
        "])\n",
        "\n",
        "# ---------- Filter loop ----------\n",
        "for c in range(num_classes):\n",
        "    class_name = gan_dataset.classes[c]\n",
        "    src = os.path.join('./FlowerGAN_Project/generated', class_name, '*.png')\n",
        "    dest = os.path.join(filtered_root, class_name)\n",
        "    os.makedirs(dest, exist_ok=True)\n",
        "    kept = 0\n",
        "    for path in glob.glob(src):\n",
        "        img = Image.open(path).convert('RGB')\n",
        "        x = filter_transform(img).unsqueeze(0).to(device)\n",
        "        with torch.no_grad():\n",
        "            out = clf(x)\n",
        "            probs = torch.softmax(out, dim=1)\n",
        "            pred = probs.argmax(1).item()\n",
        "            conf = probs.max(1).values.item()\n",
        "        if pred == c and conf >= filter_threshold:\n",
        "            img.save(os.path.join(dest, os.path.basename(path)))\n",
        "            kept += 1\n",
        "    print(f\"Class '{class_name}' → kept {kept} high-confidence images ✅\")\n",
        "\n",
        "print(\"🎯 Filtered synthetic dataset saved to:\", filtered_root)\n"
      ]
    },
    {
      "cell_type": "code",
      "execution_count": 25,
      "metadata": {
        "id": "PB6BvzkLdHas"
      },
      "outputs": [
        {
          "name": "stdout",
          "output_type": "stream",
          "text": [
            "✅ Loaded baseline CNN classifier\n",
            "Class 'daisy' → kept 0 images at threshold 0.5 ✅\n",
            "Class 'dandelion' → kept 0 images at threshold 0.5 ✅\n",
            "Class 'roses' → kept 0 images at threshold 0.5 ✅\n",
            "Class 'sunflowers' → kept 0 images at threshold 0.5 ✅\n",
            "⚡ Skipping 'tulips' (already has 500 images)\n",
            "🎯 Refined filtered synthetic dataset saved to: ./FlowerGAN_Project/generated_filtered\n"
          ]
        }
      ],
      "source": [
        "from torchvision import transforms\n",
        "from PIL import Image\n",
        "import glob, os\n",
        "import torch\n",
        "\n",
        "# ✅ Load your CNN classifier again\n",
        "clf = CNNModel().to(device)\n",
        "clf.load_state_dict(torch.load('./FlowerGAN_Project/model_baseline.pth', map_location=device))\n",
        "clf.eval()\n",
        "print(\"✅ Loaded baseline CNN classifier\")\n",
        "\n",
        "# ✅ New relaxed threshold\n",
        "filter_threshold = 0.5\n",
        "filtered_root = './FlowerGAN_Project/generated_filtered'\n",
        "os.makedirs(filtered_root, exist_ok=True)\n",
        "\n",
        "filter_transform = transforms.Compose([\n",
        "    transforms.Resize((128,128)),\n",
        "    transforms.ToTensor()\n",
        "])\n",
        "\n",
        "# ✅ Smart filter with per-class fallback\n",
        "for c in range(num_classes):\n",
        "    class_name = gan_dataset.classes[c]\n",
        "    src = os.path.join('./FlowerGAN_Project/generated', class_name, '*.png')\n",
        "    dest = os.path.join(filtered_root, class_name)\n",
        "    os.makedirs(dest, exist_ok=True)\n",
        "    kept = 0\n",
        "\n",
        "    # if we already have files, skip redoing\n",
        "    existing = len(os.listdir(dest))\n",
        "    if existing > 100:\n",
        "        print(f\"⚡ Skipping '{class_name}' (already has {existing} images)\")\n",
        "        continue\n",
        "\n",
        "    for path in glob.glob(src):\n",
        "        img = Image.open(path).convert('RGB')\n",
        "        x = filter_transform(img).unsqueeze(0).to(device)\n",
        "        with torch.no_grad():\n",
        "            out = clf(x)\n",
        "            probs = torch.softmax(out, dim=1)\n",
        "            pred = probs.argmax(1).item()\n",
        "            conf = probs.max(1).values.item()\n",
        "        # relaxed filter condition\n",
        "        if pred == c and conf >= filter_threshold:\n",
        "            img.save(os.path.join(dest, os.path.basename(path)))\n",
        "            kept += 1\n",
        "\n",
        "    print(f\"Class '{class_name}' → kept {kept} images at threshold {filter_threshold} ✅\")\n",
        "\n",
        "print(\"🎯 Refined filtered synthetic dataset saved to:\", filtered_root)\n"
      ]
    },
    {
      "cell_type": "code",
      "execution_count": 26,
      "metadata": {
        "id": "Sl2vaMsofSuf"
      },
      "outputs": [
        {
          "name": "stdout",
          "output_type": "stream",
          "text": [
            "🗑️ Removing empty folder: daisy\n",
            "🗑️ Removing empty folder: dandelion\n",
            "🗑️ Removing empty folder: roses\n",
            "🗑️ Removing empty folder: sunflowers\n",
            "✅ Cleaned filtered dataset folders.\n"
          ]
        },
        {
          "name": "stderr",
          "output_type": "stream",
          "text": [
            "'ls' is not recognized as an internal or external command,\n",
            "operable program or batch file.\n"
          ]
        }
      ],
      "source": [
        "import os\n",
        "\n",
        "filtered_root = './FlowerGAN_Project/generated_filtered'\n",
        "\n",
        "# Remove empty class folders so ImageFolder doesn't crash\n",
        "for folder in os.listdir(filtered_root):\n",
        "    class_path = os.path.join(filtered_root, folder)\n",
        "    if os.path.isdir(class_path) and len(os.listdir(class_path)) == 0:\n",
        "        print(f\"🗑️ Removing empty folder: {folder}\")\n",
        "        os.rmdir(class_path)\n",
        "\n",
        "print(\"✅ Cleaned filtered dataset folders.\")\n",
        "!ls -R ./FlowerGAN_Project/generated_filtered\n"
      ]
    },
    {
      "cell_type": "code",
      "execution_count": 27,
      "metadata": {
        "id": "O-dgOfrofEgA"
      },
      "outputs": [
        {
          "name": "stdout",
          "output_type": "stream",
          "text": [
            "📸 Real images: 3670\n",
            "🎨 Synthetic (filtered): 500 images across 1 classes\n",
            "✅ Combined dataset size: 4170\n",
            "Epoch [1/8] - Loss: 1.1453 - Accuracy: 51.61%\n",
            "Epoch [2/8] - Loss: 0.9108 - Accuracy: 63.67%\n",
            "Epoch [3/8] - Loss: 0.7870 - Accuracy: 69.54%\n",
            "Epoch [4/8] - Loss: 0.6467 - Accuracy: 75.06%\n",
            "Epoch [5/8] - Loss: 0.4878 - Accuracy: 81.92%\n",
            "Epoch [6/8] - Loss: 0.3504 - Accuracy: 87.58%\n",
            "Epoch [7/8] - Loss: 0.2355 - Accuracy: 91.68%\n",
            "Epoch [8/8] - Loss: 0.1528 - Accuracy: 95.01%\n",
            "✅ Final augmented model saved successfully.\n"
          ]
        }
      ],
      "source": [
        "import os\n",
        "from torch.utils.data import ConcatDataset, DataLoader, Subset\n",
        "from torchvision.datasets import ImageFolder\n",
        "import torch.nn as nn\n",
        "import torch.optim as optim\n",
        "import torchvision.transforms as transforms\n",
        "import torch\n",
        "\n",
        "# ✅ Transform\n",
        "aug_transform = transforms.Compose([\n",
        "    transforms.Resize((128,128)),\n",
        "    transforms.ToTensor()\n",
        "])\n",
        "\n",
        "# ✅ Load real dataset (safe)\n",
        "real_ds = ImageFolder('./FlowerGAN_Project/flowers', transform=aug_transform)\n",
        "print(\"📸 Real images:\", len(real_ds))\n",
        "\n",
        "# ✅ Load synthetic dataset safely (skip empty classes)\n",
        "filtered_root = './FlowerGAN_Project/generated_filtered'\n",
        "valid_class_folders = [os.path.join(filtered_root, c) for c in os.listdir(filtered_root) if os.listdir(os.path.join(filtered_root, c))]\n",
        "if len(valid_class_folders) == 0:\n",
        "    print(\"⚠️ No valid synthetic images found — training on real dataset only.\")\n",
        "    syn_ds = None\n",
        "else:\n",
        "    syn_ds = ImageFolder(filtered_root, transform=aug_transform)\n",
        "    print(\"🎨 Synthetic (filtered):\", len(syn_ds), \"images across\", len(syn_ds.classes), \"classes\")\n",
        "\n",
        "# ✅ Combine datasets (if synthetic exists)\n",
        "if syn_ds is not None and len(syn_ds) > 0:\n",
        "    combined_ds = ConcatDataset([real_ds, syn_ds])\n",
        "    print(f\"✅ Combined dataset size: {len(combined_ds)}\")\n",
        "else:\n",
        "    combined_ds = real_ds\n",
        "    print(\"⚙️ Using only real dataset (no synthetic found).\")\n",
        "\n",
        "combined_loader = DataLoader(combined_ds, batch_size=32, shuffle=True)\n",
        "\n",
        "# ✅ CNN Model\n",
        "class CNNModel(nn.Module):\n",
        "    def __init__(self):\n",
        "        super(CNNModel, self).__init__()\n",
        "        self.conv1 = nn.Conv2d(3, 32, 3, padding=1)\n",
        "        self.pool = nn.MaxPool2d(2, 2)\n",
        "        self.conv2 = nn.Conv2d(32, 64, 3, padding=1)\n",
        "        self.fc1 = nn.Linear(64 * 32 * 32, 128)\n",
        "        self.fc2 = nn.Linear(128, 5)\n",
        "        self.relu = nn.ReLU()\n",
        "        self.dropout = nn.Dropout(0.3)\n",
        "\n",
        "    def forward(self, x):\n",
        "        x = self.pool(self.relu(self.conv1(x)))\n",
        "        x = self.pool(self.relu(self.conv2(x)))\n",
        "        x = x.view(x.size(0), -1)\n",
        "        x = self.dropout(self.relu(self.fc1(x)))\n",
        "        x = self.fc2(x)\n",
        "        return x\n",
        "\n",
        "# ✅ Training Setup\n",
        "device = torch.device('cuda' if torch.cuda.is_available() else 'cpu')\n",
        "model_aug = CNNModel().to(device)\n",
        "criterion = nn.CrossEntropyLoss()\n",
        "optimizer = optim.Adam(model_aug.parameters(), lr=0.001)\n",
        "\n",
        "num_epochs = 8\n",
        "for epoch in range(num_epochs):\n",
        "    model_aug.train()\n",
        "    running_loss, correct, total = 0, 0, 0\n",
        "    for imgs, labels in combined_loader:\n",
        "        imgs, labels = imgs.to(device), labels.to(device)\n",
        "        outputs = model_aug(imgs)\n",
        "        loss = criterion(outputs, labels)\n",
        "        optimizer.zero_grad()\n",
        "        loss.backward()\n",
        "        optimizer.step()\n",
        "\n",
        "        running_loss += loss.item()\n",
        "        _, preds = outputs.max(1)\n",
        "        total += labels.size(0)\n",
        "        correct += (preds == labels).sum().item()\n",
        "\n",
        "    acc = 100 * correct / total\n",
        "    print(f\"Epoch [{epoch+1}/{num_epochs}] - Loss: {running_loss/len(combined_loader):.4f} - Accuracy: {acc:.2f}%\")\n",
        "\n",
        "torch.save(model_aug.state_dict(), './FlowerGAN_Project/model_augmented_final.pth')\n",
        "print(\"✅ Final augmented model saved successfully.\")\n"
      ]
    },
    {
      "cell_type": "code",
      "execution_count": 28,
      "metadata": {
        "id": "xpd8BcnRgVCF"
      },
      "outputs": [
        {
          "data": {
            "image/png": "[encoded data removed]",
            "text/plain": [
              "<Figure size 600x400 with 1 Axes>"
            ]
          },
          "metadata": {},
          "output_type": "display_data"
        }
      ],
      "source": [
        "import matplotlib.pyplot as plt\n",
        "\n",
        "# Accuracy values (update baseline if needed)\n",
        "baseline_acc = 85.04\n",
        "gan_aug_acc = 89.78\n",
        "\n",
        "models = ['Baseline CNN', 'GAN-Augmented CNN']\n",
        "accuracies = [baseline_acc, gan_aug_acc]\n",
        "\n",
        "plt.figure(figsize=(6,4))\n",
        "plt.bar(models, accuracies)\n",
        "plt.title('Classifier Accuracy Comparison')\n",
        "plt.ylabel('Accuracy (%)')\n",
        "plt.ylim(0, 100)\n",
        "for i, v in enumerate(accuracies):\n",
        "    plt.text(i, v + 1, f'{v:.2f}%', ha='center', fontweight='bold')\n",
        "plt.show()\n"
      ]
    },
    {
      "cell_type": "code",
      "execution_count": 29,
      "metadata": {
        "id": "2lCOC1bShqPG"
      },
      "outputs": [
        {
          "name": "stdout",
          "output_type": "stream",
          "text": [
            "Classes: ['daisy', 'dandelion', 'roses', 'sunflowers', 'tulips']\n"
          ]
        },
        {
          "name": "stderr",
          "output_type": "stream",
          "text": [
            "c:\\Users\\HP\\AppData\\Local\\Programs\\Python\\Python313\\Lib\\site-packages\\torchvision\\models\\_utils.py:208: UserWarning: The parameter 'pretrained' is deprecated since 0.13 and may be removed in the future, please use 'weights' instead.\n",
            "  warnings.warn(\n",
            "c:\\Users\\HP\\AppData\\Local\\Programs\\Python\\Python313\\Lib\\site-packages\\torchvision\\models\\_utils.py:223: UserWarning: Arguments other than a weight enum or `None` for 'weights' are deprecated since 0.13 and may be removed in the future. The current behavior is equivalent to passing `weights=None`.\n",
            "  warnings.warn(msg)\n"
          ]
        },
        {
          "name": "stdout",
          "output_type": "stream",
          "text": [
            "\n",
            "📊 EfficientNet (Balanced & Augmented) Accuracy: 76.29%\n",
            "              precision    recall  f1-score   support\n",
            "\n",
            "       daisy       0.00      0.00      0.00         0\n",
            "   dandelion       0.00      0.00      0.00         0\n",
            "       roses       0.00      0.00      0.00         0\n",
            "  sunflowers       0.00      0.00      0.00         0\n",
            "      tulips       1.00      0.76      0.87       734\n",
            "\n",
            "    accuracy                           0.76       734\n",
            "   macro avg       0.20      0.15      0.17       734\n",
            "weighted avg       1.00      0.76      0.87       734\n",
            "\n"
          ]
        },
        {
          "data": {
            "image/png": "[encoded data removed]",
            "text/plain": [
              "<Figure size 800x600 with 2 Axes>"
            ]
          },
          "metadata": {},
          "output_type": "display_data"
        }
      ],
      "source": [
        "# 🌸 Day 5: Confusion Matrix and Classification Report Visualization\n",
        "\n",
        "import torch\n",
        "import numpy as np\n",
        "from torchvision import datasets, transforms\n",
        "from torch.utils.data import DataLoader, Subset\n",
        "from sklearn.metrics import confusion_matrix, classification_report\n",
        "import seaborn as sns\n",
        "import matplotlib.pyplot as plt\n",
        "import os\n",
        "\n",
        "# ✅ 1. Data setup\n",
        "tf = transforms.Compose([transforms.Resize((128,128)), transforms.ToTensor()])\n",
        "data_dir = './FlowerGAN_Project/flowers'\n",
        "\n",
        "# ✅ Load small test split (20% of real data)\n",
        "full = datasets.ImageFolder(data_dir, transform=tf)\n",
        "n = len(full)\n",
        "test_start = int(0.8 * n)\n",
        "test_ds = Subset(full, list(range(test_start, n)))\n",
        "test_loader = DataLoader(test_ds, batch_size=32, shuffle=False)\n",
        "classes = full.classes\n",
        "print(\"Classes:\", classes)\n",
        "\n",
        "from torchvision import models\n",
        "import torch.nn as nn\n",
        "\n",
        "device = torch.device('cuda' if torch.cuda.is_available() else 'cpu')\n",
        "n_classes = len(classes)\n",
        "\n",
        "def build_model(n_classes):\n",
        "    model = models.efficientnet_b0(pretrained=False)  # pretrained=False since we’ll load weights\n",
        "    in_feats = model.classifier[1].in_features\n",
        "    model.classifier = nn.Sequential(\n",
        "        nn.Dropout(p=0.4, inplace=True),\n",
        "        nn.Linear(in_feats, n_classes)\n",
        "    )\n",
        "    return model.to(device)\n",
        "\n",
        "# ✅ 3. Evaluation function for EfficientNet models\n",
        "from sklearn.metrics import classification_report, confusion_matrix\n",
        "import seaborn as sns\n",
        "import matplotlib.pyplot as plt\n",
        "import numpy as np\n",
        "\n",
        "def evaluate_model(path, title):\n",
        "    model = build_model(n_classes)\n",
        "    state_dict = torch.load(path, map_location=device)\n",
        "    model.load_state_dict(state_dict, strict=False)\n",
        "    model.eval()\n",
        "\n",
        "    y_true, y_pred = [], []\n",
        "    with torch.no_grad():\n",
        "        for imgs, lbls in test_loader:\n",
        "            imgs = imgs.to(device)\n",
        "            out = model(imgs)\n",
        "            preds = out.argmax(1).cpu().numpy()\n",
        "            y_pred.extend(preds)\n",
        "            y_true.extend(lbls.numpy())\n",
        "\n",
        "    acc = np.mean(np.array(y_true) == np.array(y_pred))\n",
        "    print(f\"\\n📊 {title} Accuracy: {acc*100:.2f}%\")\n",
        "\n",
        "    print(classification_report(y_true, y_pred, target_names=classes, zero_division=0))\n",
        "\n",
        "    cm = confusion_matrix(y_true, y_pred)\n",
        "    plt.figure(figsize=(8,6))\n",
        "    sns.heatmap(cm, annot=True, fmt='d', cmap='Purples',\n",
        "                xticklabels=classes, yticklabels=classes)\n",
        "    plt.title(f'Confusion Matrix: {title}')\n",
        "    plt.xlabel('Predicted Labels')\n",
        "    plt.ylabel('True Labels')\n",
        "    plt.show()\n",
        "\n",
        "# ✅ 4. Evaluate trained models\n",
        "evaluate_model('./FlowerGAN_Project/effnet_b0_best.pth', 'EfficientNet (Balanced & Augmented)')\n"
      ]
    },
    {
      "cell_type": "code",
      "execution_count": 30,
      "metadata": {
        "id": "VTUTy3Vbh3lE"
      },
      "outputs": [
        {
          "data": {
            "image/png": "[encoded data removed]",
            "text/plain": [
              "<Figure size 1200x500 with 2 Axes>"
            ]
          },
          "metadata": {},
          "output_type": "display_data"
        }
      ],
      "source": [
        "from sklearn.manifold import TSNE\n",
        "\n",
        "def extract_features(model_path):\n",
        "    m = CNNModel().to(device)\n",
        "    m.load_state_dict(torch.load(model_path, map_location=device))\n",
        "    m.eval()\n",
        "    feats, labels = [], []\n",
        "    with torch.no_grad():\n",
        "        for imgs, lbls in test_loader:\n",
        "            imgs = imgs.to(device)\n",
        "            x = m.pool(m.relu(m.conv1(imgs)))\n",
        "            x = m.pool(m.relu(m.conv2(x)))\n",
        "            x = x.view(x.size(0), -1)\n",
        "            x = m.relu(m.fc1(x))\n",
        "            feats.append(x.cpu().numpy())\n",
        "            labels.append(lbls.numpy())\n",
        "    return np.concatenate(feats), np.concatenate(labels)\n",
        "\n",
        "feat_base, y_base = extract_features('./FlowerGAN_Project/model_baseline.pth')\n",
        "feat_gan,  y_gan  = extract_features('./FlowerGAN_Project/model_augmented_final.pth')\n",
        "\n",
        "tsne = TSNE(n_components=2, random_state=42, perplexity=30)\n",
        "emb_base = tsne.fit_transform(feat_base[:2000])\n",
        "emb_gan  = tsne.fit_transform(feat_gan[:2000])\n",
        "\n",
        "plt.figure(figsize=(12,5))\n",
        "plt.subplot(1,2,1)\n",
        "plt.scatter(emb_base[:,0], emb_base[:,1], c=y_base[:2000], cmap='tab10', s=10)\n",
        "plt.title(\"t-SNE – Baseline CNN\")\n",
        "plt.subplot(1,2,2)\n",
        "plt.scatter(emb_gan[:,0], emb_gan[:,1], c=y_gan[:2000], cmap='tab10', s=10)\n",
        "plt.title(\"t-SNE – GAN-Augmented CNN\")\n",
        "plt.show()"
      ]
    }
  ],
  "metadata": {
    "accelerator": "GPU",
    "colab": {
      "gpuType": "T4",
      "provenance": []
    },
    "kernelspec": {
      "display_name": "Python 3",
      "name": "python3"
    },
    "language_info": {
      "codemirror_mode": {
        "name": "ipython",
        "version": 3
      },
      "file_extension": ".py",
      "mimetype": "text/x-python",
      "name": "python",
      "nbconvert_exporter": "python",
      "pygments_lexer": "ipython3",
      "version": "3.13.7"
    }
  },
  "nbformat": 4,
  "nbformat_minor": 0
}
